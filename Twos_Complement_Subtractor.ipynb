{
 "cells": [
  {
   "cell_type": "code",
   "execution_count": 1,
   "id": "63dad5b2",
   "metadata": {},
   "outputs": [],
   "source": [
    "import numpy as np\n",
    "\n",
    "# Importing standard Qiskit libraries\n",
    "from qiskit import QuantumCircuit, transpile, Aer, IBMQ\n",
    "from qiskit.tools.jupyter import *\n",
    "from qiskit.visualization import *\n",
    "#from ibm_quantum_widgets import *\n",
    "from qiskit.providers.aer import QasmSimulator\n",
    "from qiskit import execute, Aer\n",
    "\n",
    "# Loading your IBM Quantum account(s)\n",
    "provider = IBMQ.load_account()"
   ]
  },
  {
   "cell_type": "code",
   "execution_count": 2,
   "id": "0d6dc4e2",
   "metadata": {},
   "outputs": [],
   "source": [
    "from qiskit.circuit import QuantumCircuit, QuantumRegister, AncillaRegister, ClassicalRegister\n",
    "from qiskit.circuit.library import DraperQFTAdder, CDKMRippleCarryAdder,VBERippleCarryAdder\n"
   ]
  },
  {
   "cell_type": "code",
   "execution_count": 3,
   "id": "3b59e87a",
   "metadata": {},
   "outputs": [],
   "source": [
    "# To Compute a-b, using Two's Complement Subtractor"
   ]
  },
  {
   "cell_type": "code",
   "execution_count": 4,
   "id": "ef3ce358",
   "metadata": {},
   "outputs": [],
   "source": [
    "def OnesComplement(qc,b_qr,n):\n",
    "    \n",
    "    #001 -> 110 : 1's complement\n",
    "    for j in range(n):\n",
    "        qc.x(b_qr[j])\n",
    "    qc.barrier()"
   ]
  },
  {
   "cell_type": "code",
   "execution_count": 5,
   "id": "9783f4c5",
   "metadata": {},
   "outputs": [],
   "source": [
    "def TwosComplement(qc,b_qr,n):\n",
    "    \n",
    "    #001 -> 110 : 1's complement\n",
    "    OnesComplement(qc,b_qr,n+1)\n",
    "    #adding one to make twos complement\n",
    "    adder=DraperQFTAdder(n+1,kind='fixed')\n",
    "    qc.compose(adder,qubits=list(range(2*n+1,3*n+2))+list(range(n,2*n+1)),inplace=True)\n",
    "    qc.x(b_qr[-1])\n",
    "    qc.barrier()\n",
    "    \n",
    "    qc.draw('mpl')\n",
    "      "
   ]
  },
  {
   "cell_type": "code",
   "execution_count": 6,
   "id": "dc23f488",
   "metadata": {},
   "outputs": [],
   "source": [
    "def TwosComplementSubtractor(qc, qr_a, qr_b, n):\n",
    "    \n",
    "    # taking 2's complement of b\n",
    "    # let b = 100\n",
    "    # twosc_b = (-b) = 011 + 001 = 100\n",
    "    \n",
    "    TwosComplement(qc,qr_b, n)\n",
    "    adder=DraperQFTAdder(n,kind='half')\n",
    "    qc.compose(adder,range(0,2*n+1),inplace=True)\n",
    "    \n",
    "    qc.barrier()\n",
    "    #add(qc,qr_a,qr_b,n)\n",
    "    qc.measure(b,cb)\n",
    "    qc.barrier()\n",
    "    # Simulate the circuit.\n",
    "    backend_sim = Aer.get_backend('qasm_simulator')\n",
    "    job_sim = execute(qc, backend_sim)\n",
    "    result_sim = job_sim.result()\n",
    "    state_b = list(result_sim.get_counts(qc).keys())[0]\n",
    "    # if carry =0\n",
    "    if (state_b[0] == '0'):\n",
    "        print(\"**Inside if***\")\n",
    "        TwosComplement(qc,qr_b, n)\n",
    "        qc.measure(b, cb)\n",
    "        # Simulate the circuit.\n",
    "        backend_sim = Aer.get_backend('qasm_simulator')\n",
    "        job_sim = execute(qc, backend_sim)\n",
    "        result_sim = job_sim.result()\n",
    "\n",
    "        state_b = list(result_sim.get_counts(qc).keys())[0]\n",
    "        return ['-ve',state_b]        \n",
    "    else:\n",
    "        print(\"**Inside else***\")\n",
    "        \n",
    "        qc.measure(b, cb)\n",
    "        # Simulate the circuit.\n",
    "        backend_sim = Aer.get_backend('qasm_simulator')\n",
    "        job_sim = execute(qc, backend_sim)\n",
    "        result_sim = job_sim.result()\n",
    "\n",
    "        state_b = list(result_sim.get_counts(qc).keys())[0]\n",
    "        return ['+ve',state_b[1:]]"
   ]
  },
  {
   "cell_type": "code",
   "execution_count": 7,
   "id": "626051d7",
   "metadata": {},
   "outputs": [
    {
     "name": "stdout",
     "output_type": "stream",
     "text": [
      "3\n"
     ]
    }
   ],
   "source": [
    "n = int(input())\n",
    "#n =3\n"
   ]
  },
  {
   "cell_type": "code",
   "execution_count": 8,
   "id": "630f2c97",
   "metadata": {},
   "outputs": [
    {
     "data": {
      "text/plain": [
       "<qiskit.circuit.instructionset.InstructionSet at 0x1b16356efe0>"
      ]
     },
     "execution_count": 8,
     "metadata": {},
     "output_type": "execute_result"
    }
   ],
   "source": [
    "### Registers and circuit.\n",
    "a=QuantumRegister(n,'a')\n",
    "b=QuantumRegister(n+1,'b')\n",
    "one=QuantumRegister(n+1,'one')\n",
    "\n",
    "cb=ClassicalRegister(n+1,'c_b')\n",
    "\n",
    "\n",
    "qc=QuantumCircuit(a,b,one,cb)\n",
    "\n",
    "qc.x(one[0])\n",
    "\n",
    "# Numbers to Add.\n",
    "\n"
   ]
  },
  {
   "cell_type": "code",
   "execution_count": 9,
   "id": "8c49409c",
   "metadata": {},
   "outputs": [
    {
     "name": "stdout",
     "output_type": "stream",
     "text": [
      "2\n",
      "1\n"
     ]
    }
   ],
   "source": [
    "in_a = input() \n",
    "in_b = input()\n",
    "\n",
    "#To find a-b"
   ]
  },
  {
   "cell_type": "code",
   "execution_count": 10,
   "id": "3fae6f2b",
   "metadata": {},
   "outputs": [
    {
     "data": {
      "image/png": "[encoded data removed]",
      "text/plain": [
       "<Figure size 232.522x746.48 with 1 Axes>"
      ]
     },
     "execution_count": 10,
     "metadata": {},
     "output_type": "execute_result"
    }
   ],
   "source": [
    "\n",
    "if len(in_a)==n and len(in_b)==n:\n",
    "    #for a\n",
    "    for i in range(len(in_a)):\n",
    "        if(in_a[::-1][i] == '1'):\n",
    "            qc.x(a[i])\n",
    "    #for b\n",
    "    for i in range(len(in_b)):\n",
    "        if(in_b[::-1][i] == '1'):\n",
    "            qc.x(b[i])\n",
    "qc.barrier()\n",
    "\n",
    "qc.draw(output = \"mpl\" ,style = {'backgroundcolor':'gray'})"
   ]
  },
  {
   "cell_type": "code",
   "execution_count": 11,
   "id": "34a3eef8",
   "metadata": {},
   "outputs": [
    {
     "name": "stdout",
     "output_type": "stream",
     "text": [
      "**Inside else***\n"
     ]
    }
   ],
   "source": [
    "result = TwosComplementSubtractor(qc, a, b, n)"
   ]
  },
  {
   "cell_type": "code",
   "execution_count": 12,
   "id": "fa2e5246",
   "metadata": {},
   "outputs": [
    {
     "data": {
      "image/png": "[encoded data removed]",
      "text/plain": [
       "<Figure size 1436.52x746.48 with 1 Axes>"
      ]
     },
     "execution_count": 12,
     "metadata": {},
     "output_type": "execute_result"
    }
   ],
   "source": [
    "qc.draw(output = \"mpl\" ,style = {'backgroundcolor':'gray'})"
   ]
  },
  {
   "cell_type": "code",
   "execution_count": 13,
   "id": "db5d71a2",
   "metadata": {},
   "outputs": [
    {
     "data": {
      "text/plain": [
       "['+ve', '000']"
      ]
     },
     "execution_count": 13,
     "metadata": {},
     "output_type": "execute_result"
    }
   ],
   "source": [
    "result"
   ]
  },
  {
   "cell_type": "code",
   "execution_count": 14,
   "id": "368b9481",
   "metadata": {},
   "outputs": [
    {
     "data": {
      "text/plain": [
       "{'qiskit-terra': '0.21.0', 'qiskit-aer': '0.10.4', 'qiskit-ignis': None, 'qiskit-ibmq-provider': '0.19.2', 'qiskit': '0.37.0', 'qiskit-nature': '0.4.2', 'qiskit-finance': '0.3.3', 'qiskit-optimization': '0.4.0', 'qiskit-machine-learning': '0.4.0'}"
      ]
     },
     "execution_count": 14,
     "metadata": {},
     "output_type": "execute_result"
    }
   ],
   "source": [
    "import qiskit\n",
    "qiskit.__qiskit_version__"
   ]
  },
  {
   "cell_type": "code",
   "execution_count": null,
   "id": "a1f52c8d",
   "metadata": {},
   "outputs": [],
   "source": []
  },
  {
   "cell_type": "code",
   "execution_count": null,
   "id": "fee10d60",
   "metadata": {},
   "outputs": [],
   "source": []
  }
 ],
 "metadata": {
  "kernelspec": {
   "display_name": "Python 3 (ipykernel)",
   "language": "python",
   "name": "python3"
  },
  "language_info": {
   "codemirror_mode": {
    "name": "ipython",
    "version": 3
   },
   "file_extension": ".py",
   "mimetype": "text/x-python",
   "name": "python",
   "nbconvert_exporter": "python",
   "pygments_lexer": "ipython3",
   "version": "3.10.4"
  },
  "widgets": {
   "application/vnd.jupyter.widget-state+json": {
    "state": {},
    "version_major": 2,
    "version_minor": 0
   }
  }
 },
 "nbformat": 4,
 "nbformat_minor": 5
}
